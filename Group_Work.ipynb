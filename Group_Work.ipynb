{
 "cells": [
  {
   "cell_type": "markdown",
   "metadata": {},
   "source": [
    "---\n",
    "bibliography: bio.bib\n",
    "csl: harvard-cite-them-right.csl\n",
    "title: BugAvenger's Group Project\n",
    "execute:\n",
    "  echo: false\n",
    "  freeze: true\n",
    "format:\n",
    "  html:\n",
    "    code-copy: true\n",
    "    code-link: true\n",
    "    toc: true\n",
    "    toc-title: On this page\n",
    "    toc-depth: 2\n",
    "    toc_float:\n",
    "      collapsed: false\n",
    "      smooth_scroll: true\n",
    "  pdf:\n",
    "    include-in-header:\n",
    "      text: |\n",
    "        \\addtokomafont{disposition}{\\rmfamily}\n",
    "    mainfont: Spectral\n",
    "    sansfont: Roboto Flex\n",
    "    monofont: InputMonoCondensed\n",
    "    papersize: a4\n",
    "    geometry:\n",
    "      - top=25mm\n",
    "      - left=40mm\n",
    "      - right=30mm\n",
    "      - bottom=25mm\n",
    "      - heightrounded\n",
    "    toc: false\n",
    "    number-sections: false\n",
    "    colorlinks: true\n",
    "    highlight-style: github\n",
    "jupyter:\n",
    "  jupytext:\n",
    "    text_representation:\n",
    "      extension: .qmd\n",
    "      format_name: quarto\n",
    "      format_version: '1.0'\n",
    "      jupytext_version: 1.16.4\n",
    "  kernelspec:\n",
    "    display_name: Python (base)\n",
    "    language: python\n",
    "    name: base\n",
    "---"
   ]
  },
  {
   "cell_type": "code",
   "execution_count": null,
   "metadata": {},
   "outputs": [],
   "source": [
    "#| echo: false\n",
    "import os\n",
    "import pandas as pd"
   ]
  },
  {
   "cell_type": "code",
   "execution_count": null,
   "metadata": {},
   "outputs": [],
   "source": [
    "#| echo: false\n",
    "host = 'https://orca.casa.ucl.ac.uk'\n",
    "path = '~jreades/data'\n",
    "file = '20240614-London-listings.parquet'\n",
    "\n",
    "if os.path.exists(file):\n",
    "  df = pd.read_parquet(file)\n",
    "else: \n",
    "  df = pd.read_parquet(f'{host}/{path}/{file}')\n",
    "  df.to_parquet(file)"
   ]
  },
  {
   "cell_type": "markdown",
   "metadata": {},
   "source": [
    "## 1. Who collected the InsideAirbnb data?\n",
    "\n",
    "::: {.duedate}\n",
    "@Insideairbnb: https://insideairbnb.com/about/\n",
    "Collaborators:\n",
    "Murray Cox, John Morris, Taylor Higgins\n",
    "Past Collaborators:\n",
    "Alice Corona, Luca Lamonaca, Michael \"Ziggy\" Mintz, Anya Sophe Behn\n",
    "( 2 points; Answer due Week 7 )\n",
    "\n",
    ":::\n",
    "\n",
    "An inline citation example: As discussed on @insideairbnb, there are many...\n",
    "\n",
    "A parenthetical citation example: There are many ways to research Airbnb [see, for example, @insideairbnb]... \n",
    "\n"
   ]
  },
  {
   "cell_type": "markdown",
   "metadata": {},
   "source": [
    "## 2. Why did they collect the InsideAirbnb data?\n",
    "\n",
    "::: {.duedate}\n",
    "@Insideairbnb argued, Airbnb as a privately-owned company, there is currently no mechanism for holding Airbnb accountable for its own actions. \n",
    "The public’s ability to see the truth behind Airbnb’s selected data releases is limited. Unfortunately, Airbnb’s so-called transparency initiatives are no substitute for genuine audits or for genuine accountability.\n",
    "Thus, this organization believes in monitoring and analyzing airbnb's regularly posteddatasets to show the public that majority of Airbnb listings in most cities are entire homes, many of which are rented all year round - disrupting housing and communities.\n",
    "\n",
    "##Reference \n",
    "#Cox, M., and T. Slee. 2016. “How Airbnb’s Data Hid the Facts in New York City.” Inside Airbnb. http://insideairbnb.com/reports/how-airbnbs-data-hid-the-facts-in-new-york-city.pdf\n",
    "#https://insideairbnb.com/\n",
    "\n",
    "( 4 points; Answer due Week 7 )\n",
    "\n",
    ":::"
   ]
  },
  {
   "cell_type": "code",
   "execution_count": null,
   "metadata": {},
   "outputs": [],
   "source": [
    "#| output: asis\n",
    "print(f\"One of way to embed output in the text looks like this: after cleaning, we were left with {df.shape[0]:,} rows of data.\")"
   ]
  },
  {
   "cell_type": "markdown",
   "metadata": {},
   "source": [
    "This way is also supposed to work (`{python} f\"{df.shape[0]:,}\" `) but I've found it less reliable."
   ]
  },
  {
   "cell_type": "code",
   "execution_count": null,
   "metadata": {},
   "outputs": [],
   "source": [
    "ax = df.host_listings_count.plot.hist(bins=50);\n",
    "ax.set_xlim([0,500]);"
   ]
  },
  {
   "cell_type": "markdown",
   "metadata": {},
   "source": [
    "## 3. How did they collect it?\n",
    "\n",
    "::: {.duedate}\n",
    "\n",
    "( 5 points; Answer due Week 8 )\n",
    "The data sets of @Insideairbnb were assembled by programmatically compiling public information from  Airbnb’s website, but they were implemented and collected independently. Both data sets attempt to locate all the listings within a city, and then visit the page for each listing to collect listing data, including the host ID. The host ID allows an analysis of the number of listings posted by a single host. \n",
    "For estimating how often an Airbnb listing is being rented out, and also approximating a listing's income, @Insideairbnb used an occupancy model. They christened the occupancy model as \"San Francisco Model\", in honor of the public policy and urban planners working for that fair city who created occupancy models to quantify the impact of Airbnb on housing.\n",
    "\n",
    "Reference \n",
    "- Cox, M., and T. Slee. 2016. “How Airbnb’s Data Hid the Facts in New York City.” Inside Airbnb. http://insideairbnb.com/reports/how-airbnbs-data-hid-the-facts-in-new-york-city.pdf\n",
    "- https://insideairbnb.com/data-assumptions/ \n",
    "\n",
    ":::"
   ]
  },
  {
   "cell_type": "markdown",
   "metadata": {},
   "source": [
    "## 4. How does the method of collection (Q3) impact the completeness and/or accuracy of the InsideAirbnb data? How well does it represent the process it seeks to study, and what wider issues does this raise?\n",
    "\n",
    "::: {.duedate}\n",
    "\n",
    "( 11 points; Answer due Week 9 )\n",
    "\n",
    ":::\n"
   ]
  },
  {
   "cell_type": "markdown",
   "metadata": {},
   "source": [
    "## 5. What ethical considerations does the use of the InsideAirbnb data raise? \n",
    "\n",
    "::: {.duedate}\n",
    "\n",
    "( 18 points; Answer due {{< var assess.group-date >}} )\n",
    "\n",
    ":::\n"
   ]
  },
  {
   "cell_type": "markdown",
   "metadata": {},
   "source": [
    "## 6. With reference to the InsideAirbnb data (*i.e.* using numbers, figures, maps, and descriptive statistics), what does an analysis of Hosts and the types of properties that they list suggest about the nature of Airbnb lettings in London? \n",
    "\n",
    "::: {.duedate}\n",
    "\n",
    "( 15 points; Answer due {{< var assess.group-date >}} )\n",
    "\n",
    ":::\n"
   ]
  },
  {
   "cell_type": "markdown",
   "metadata": {},
   "source": [
    "## 7. Drawing on your previous answers, and supporting your response with evidence (*e.g.* figures, maps, EDA/ESDA, and simple statistical analysis/models drawing on experience from, e.g., CASA0007), how *could* the InsideAirbnb data set be used to inform the regulation of Short-Term Lets (STL) in London? \n",
    "\n",
    "::: {.duedate}\n",
    "\n",
    "( 45 points; Answer due {{< var assess.group-date >}} )\n",
    "\n",
    ":::\n"
   ]
  },
  {
   "cell_type": "markdown",
   "metadata": {},
   "source": [
    "## Sustainable Authorship Tools\n",
    "\n",
    "Using the Terminal in Docker, you compile the Quarto report using `quarto render <group_submission_file>.qmd`.\n",
    "\n",
    "Your QMD file should automatically download your BibTeX and CLS files and any other required files. If this is done right after library loading then the entire report should output successfully.\n",
    "\n",
    "Written in Markdown and generated from [Quarto](https://quarto.org/). Fonts used: [Spectral](https://fonts.google.com/specimen/Spectral) (mainfont), [Roboto](https://fonts.google.com/specimen/Roboto) (<span style=\"font-family:Sans-Serif;\">sansfont</span>) and [JetBrains Mono](https://fonts.google.com/specimen/JetBrains%20Mono) (`monofont`). \n",
    "\n"
   ]
  },
  {
   "cell_type": "markdown",
   "metadata": {},
   "source": [
    "## References"
   ]
  },
  {
   "cell_type": "markdown",
   "metadata": {},
   "source": []
  }
 ],
 "metadata": {
  "jupytext": {
   "text_representation": {
    "extension": ".qmd",
    "format_name": "quarto",
    "format_version": "1.0",
    "jupytext_version": "1.16.4"
   }
  },
  "kernelspec": {
   "display_name": "python08",
   "language": "python",
   "name": "python3"
  },
  "language_info": {
   "codemirror_mode": {
    "name": "ipython",
    "version": 3
   },
   "file_extension": ".py",
   "mimetype": "text/x-python",
   "name": "python",
   "nbconvert_exporter": "python",
   "pygments_lexer": "ipython3",
   "version": "3.8.20"
  }
 },
 "nbformat": 4,
 "nbformat_minor": 4
}
